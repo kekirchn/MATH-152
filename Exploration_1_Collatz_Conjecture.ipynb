{
  "nbformat": 4,
  "nbformat_minor": 0,
  "metadata": {
    "colab": {
      "provenance": [],
      "include_colab_link": true
    },
    "kernelspec": {
      "name": "python3",
      "display_name": "Python 3"
    },
    "language_info": {
      "name": "python"
    }
  },
  "cells": [
    {
      "cell_type": "markdown",
      "metadata": {
        "id": "view-in-github",
        "colab_type": "text"
      },
      "source": [
        "<a href=\"https://colab.research.google.com/github/kekirchn/MATH-152/blob/main/Exploration_1_Collatz_Conjecture.ipynb\" target=\"_parent\"><img src=\"https://colab.research.google.com/assets/colab-badge.svg\" alt=\"Open In Colab\"/></a>"
      ]
    },
    {
      "cell_type": "code",
      "execution_count": null,
      "metadata": {
        "id": "fNCzvy2USSVb"
      },
      "outputs": [],
      "source": [
        "def collatz(n):\n",
        "  sequence = 3 * n + 1\n",
        "  while n > 1:\n",
        "    print(n) \n",
        "  if n % 2:\n",
        "    sequence = sequence\n",
        "  else:\n",
        "    print(1)\n"
      ]
    },
    {
      "cell_type": "code",
      "source": [],
      "metadata": {
        "id": "kdXhXlIuWnsH"
      },
      "execution_count": null,
      "outputs": []
    },
    {
      "cell_type": "code",
      "source": [
        "def agu_collatz(n):\n",
        "  mm=n\n",
        "  t=0\n",
        "  print(t,mm)\n",
        "  while mm!=1:\n",
        "    t=t+1\n",
        "    if mm%2==0:\n",
        "      mm=mm/2\n",
        "    elif mm%2==1:\n",
        "      mm=3*mm+1\n",
        "    print(t,mm)\n",
        "\n",
        "def single_collatz_check(n):\n",
        "  mm=n\n",
        "  t=0\n",
        "  while mm!=1:\n",
        "    t=t+1\n",
        "    if mm%2==0:\n",
        "      mm=mm/2\n",
        "    elif mm%2==1:\n",
        "      mm=3*mm+1\n",
        "    if t>1000:\n",
        "      return(False)\n",
        "      break\n",
        "  return(True)\n"
      ],
      "metadata": {
        "id": "8Rqfp_UKVD-T"
      },
      "execution_count": null,
      "outputs": []
    },
    {
      "cell_type": "code",
      "source": [
        "\n",
        "def range_collatz_check(y):\n",
        "  verified=[1]\n",
        "  for x in range(1,y):\n",
        "    if verified.count(x)==0:\n",
        "      if single_collatz_check(x):\n",
        "        verified.append(x)\n",
        "      else:\n",
        "        return(\"Time Out\")\n",
        "        break\n",
        "    return(verified)\n",
        "\n",
        "range_collatz_check(100)\n"
      ],
      "metadata": {
        "colab": {
          "base_uri": "https://localhost:8080/"
        },
        "id": "QZBP5yugZ5qY",
        "outputId": "063ac4e4-f231-470a-ab96-d96f8a5769cb"
      },
      "execution_count": null,
      "outputs": [
        {
          "output_type": "execute_result",
          "data": {
            "text/plain": [
              "[1]"
            ]
          },
          "metadata": {},
          "execution_count": 50
        }
      ]
    },
    {
      "cell_type": "code",
      "source": [
        "def aziz_collatz(n,it): \n",
        "  while n>1:\n",
        "    for i in range (n,it):\n",
        "      if n%2==0:\n",
        "       n=n/2\n",
        "      else:\n",
        "        n=(3*n)+1\n",
        "      print(n)\n",
        "aziz_collatz(3,10)"
      ],
      "metadata": {
        "colab": {
          "base_uri": "https://localhost:8080/"
        },
        "id": "Ckc3YXldfc61",
        "outputId": "d7692e7c-7c73-430e-a068-ff7e8d16e692"
      },
      "execution_count": 15,
      "outputs": [
        {
          "output_type": "stream",
          "name": "stdout",
          "text": [
            "10\n",
            "5.0\n",
            "16.0\n",
            "8.0\n",
            "4.0\n",
            "2.0\n",
            "1.0\n"
          ]
        }
      ]
    },
    {
      "cell_type": "code",
      "source": [],
      "metadata": {
        "id": "_31yLmF-ffPA"
      },
      "execution_count": null,
      "outputs": []
    }
  ]
}