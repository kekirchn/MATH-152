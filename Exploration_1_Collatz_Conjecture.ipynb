{
  "nbformat": 4,
  "nbformat_minor": 0,
  "metadata": {
    "colab": {
      "provenance": [],
      "include_colab_link": true
    },
    "kernelspec": {
      "name": "python3",
      "display_name": "Python 3"
    },
    "language_info": {
      "name": "python"
    }
  },
  "cells": [
    {
      "cell_type": "markdown",
      "metadata": {
        "id": "view-in-github",
        "colab_type": "text"
      },
      "source": [
        "<a href=\"https://colab.research.google.com/github/kekirchn/MATH-152/blob/main/Exploration_1_Collatz_Conjecture.ipynb\" target=\"_parent\"><img src=\"https://colab.research.google.com/assets/colab-badge.svg\" alt=\"Open In Colab\"/></a>"
      ]
    },
    {
      "cell_type": "markdown",
      "source": [
        "Each came up with our own code for the conjecture\n",
        "\n",
        "Aziz working on 2\n",
        "\n",
        "August working on 3\n",
        "\n",
        "Kelly writing the finding and describing the code\n",
        "\n",
        "Tanner working on 4(?)"
      ],
      "metadata": {
        "id": "2u1VT3V2iU4W"
      }
    },
    {
      "cell_type": "markdown",
      "source": [
        "# Exploration 1: The Collatz Conjecture\n"
      ],
      "metadata": {
        "id": "KcGnkqB3kPcp"
      }
    },
    {
      "cell_type": "code",
      "execution_count": 16,
      "metadata": {
        "id": "fNCzvy2USSVb"
      },
      "outputs": [],
      "source": [
        "def kelly_collatz(n):\n",
        "  t = 0 \n",
        "  while n > 1:\n",
        "    if n % 2 == 0:\n",
        "      n = n / 2\n",
        "    elif n % 2 == 1:\n",
        "      n = 3 * n + 1\n",
        "    print(n) \n",
        "    t = t + 1\n",
        "  print(1)\n"
      ]
    },
    {
      "cell_type": "code",
      "source": [],
      "metadata": {
        "id": "kdXhXlIuWnsH"
      },
      "execution_count": null,
      "outputs": []
    },
    {
      "cell_type": "code",
      "source": [
        "def agu_collatz(n):\n",
        "  mm=n\n",
        "  t=0\n",
        "  print(t,mm)\n",
        "  while mm!=1:\n",
        "    t=t+1\n",
        "    if mm%2==0:\n",
        "      mm=mm/2\n",
        "    elif mm%2==1:\n",
        "      mm=3*mm+1\n",
        "    print(t,mm)\n",
        "\n",
        "def single_collatz_check(n):\n",
        "  mm=n\n",
        "  t=0\n",
        "  while mm!=1:\n",
        "    t=t+1\n",
        "    if mm%2==0:\n",
        "      mm=mm/2\n",
        "    elif mm%2==1:\n",
        "      mm=3*mm+1\n",
        "    if t>1000:\n",
        "      return(False)\n",
        "      break\n",
        "  return(True)\n"
      ],
      "metadata": {
        "id": "8Rqfp_UKVD-T"
      },
      "execution_count": null,
      "outputs": []
    },
    {
      "cell_type": "code",
      "source": [
        "\n",
        "def range_collatz_check(y):\n",
        "  verified=[1]\n",
        "  for x in range(1,y):\n",
        "    if verified.count(x)==0:\n",
        "      if single_collatz_check(x):\n",
        "        verified.append(x)\n",
        "      else:\n",
        "        return(\"Time Out\")\n",
        "        break\n",
        "  return(verified)\n",
        "\n",
        "range_collatz_check(10)\n"
      ],
      "metadata": {
        "colab": {
          "base_uri": "https://localhost:8080/",
          "height": 329
        },
        "id": "QZBP5yugZ5qY",
        "outputId": "468f86cf-79ad-470f-ae5e-1c7e2927df76"
      },
      "execution_count": null,
      "outputs": [
        {
          "output_type": "error",
          "ename": "NameError",
          "evalue": "ignored",
          "traceback": [
            "\u001b[0;31m---------------------------------------------------------------------------\u001b[0m",
            "\u001b[0;31mNameError\u001b[0m                                 Traceback (most recent call last)",
            "\u001b[0;32m<ipython-input-55-490aaa9239ca>\u001b[0m in \u001b[0;36m<module>\u001b[0;34m\u001b[0m\n\u001b[1;32m     10\u001b[0m   \u001b[0;32mreturn\u001b[0m\u001b[0;34m(\u001b[0m\u001b[0mverified\u001b[0m\u001b[0;34m)\u001b[0m\u001b[0;34m\u001b[0m\u001b[0;34m\u001b[0m\u001b[0m\n\u001b[1;32m     11\u001b[0m \u001b[0;34m\u001b[0m\u001b[0m\n\u001b[0;32m---> 12\u001b[0;31m \u001b[0mrange_collatz_check\u001b[0m\u001b[0;34m(\u001b[0m\u001b[0;36m10\u001b[0m\u001b[0;34m)\u001b[0m\u001b[0;34m\u001b[0m\u001b[0;34m\u001b[0m\u001b[0m\n\u001b[0m",
            "\u001b[0;32m<ipython-input-55-490aaa9239ca>\u001b[0m in \u001b[0;36mrange_collatz_check\u001b[0;34m(y)\u001b[0m\n\u001b[1;32m      3\u001b[0m   \u001b[0;32mfor\u001b[0m \u001b[0mx\u001b[0m \u001b[0;32min\u001b[0m \u001b[0mrange\u001b[0m\u001b[0;34m(\u001b[0m\u001b[0;36m1\u001b[0m\u001b[0;34m,\u001b[0m\u001b[0my\u001b[0m\u001b[0;34m)\u001b[0m\u001b[0;34m:\u001b[0m\u001b[0;34m\u001b[0m\u001b[0;34m\u001b[0m\u001b[0m\n\u001b[1;32m      4\u001b[0m     \u001b[0;32mif\u001b[0m \u001b[0mverified\u001b[0m\u001b[0;34m.\u001b[0m\u001b[0mcount\u001b[0m\u001b[0;34m(\u001b[0m\u001b[0mx\u001b[0m\u001b[0;34m)\u001b[0m\u001b[0;34m==\u001b[0m\u001b[0;36m0\u001b[0m\u001b[0;34m:\u001b[0m\u001b[0;34m\u001b[0m\u001b[0;34m\u001b[0m\u001b[0m\n\u001b[0;32m----> 5\u001b[0;31m       \u001b[0;32mif\u001b[0m \u001b[0msingle_collatz_check\u001b[0m\u001b[0;34m(\u001b[0m\u001b[0mx\u001b[0m\u001b[0;34m)\u001b[0m\u001b[0;34m:\u001b[0m\u001b[0;34m\u001b[0m\u001b[0;34m\u001b[0m\u001b[0m\n\u001b[0m\u001b[1;32m      6\u001b[0m         \u001b[0mverified\u001b[0m\u001b[0;34m.\u001b[0m\u001b[0mappend\u001b[0m\u001b[0;34m(\u001b[0m\u001b[0mx\u001b[0m\u001b[0;34m)\u001b[0m\u001b[0;34m\u001b[0m\u001b[0;34m\u001b[0m\u001b[0m\n\u001b[1;32m      7\u001b[0m       \u001b[0;32melse\u001b[0m\u001b[0;34m:\u001b[0m\u001b[0;34m\u001b[0m\u001b[0;34m\u001b[0m\u001b[0m\n",
            "\u001b[0;31mNameError\u001b[0m: name 'single_collatz_check' is not defined"
          ]
        }
      ]
    },
    {
      "cell_type": "code",
      "source": [
        "def aziz_collatz(n,it): \n",
        "  while n>1:\n",
        "    for i in range (n,it):\n",
        "      if n%2==0:\n",
        "       n=n/2\n",
        "      else:\n",
        "        n=(3*n)+1\n",
        "      print(n)\n",
        "aziz_collatz(3,10)"
      ],
      "metadata": {
        "colab": {
          "base_uri": "https://localhost:8080/"
        },
        "id": "Ckc3YXldfc61",
        "outputId": "d7692e7c-7c73-430e-a068-ff7e8d16e692"
      },
      "execution_count": null,
      "outputs": [
        {
          "output_type": "stream",
          "name": "stdout",
          "text": [
            "10\n",
            "5.0\n",
            "16.0\n",
            "8.0\n",
            "4.0\n",
            "2.0\n",
            "1.0\n"
          ]
        }
      ]
    },
    {
      "cell_type": "code",
      "source": [],
      "metadata": {
        "id": "_31yLmF-ffPA"
      },
      "execution_count": null,
      "outputs": []
    }
  ]
}