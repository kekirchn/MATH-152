{
  "nbformat": 4,
  "nbformat_minor": 0,
  "metadata": {
    "colab": {
      "provenance": [],
      "authorship_tag": "ABX9TyN6RssqgL2OHg9zGoZhjocD",
      "include_colab_link": true
    },
    "kernelspec": {
      "name": "python3",
      "display_name": "Python 3"
    },
    "language_info": {
      "name": "python"
    }
  },
  "cells": [
    {
      "cell_type": "markdown",
      "metadata": {
        "id": "view-in-github",
        "colab_type": "text"
      },
      "source": [
        "<a href=\"https://colab.research.google.com/github/kekirchn/MATH-152/blob/main/Exploration_1_The_Collatz_Conjecture_Final.ipynb\" target=\"_parent\"><img src=\"https://colab.research.google.com/assets/colab-badge.svg\" alt=\"Open In Colab\"/></a>"
      ]
    },
    {
      "cell_type": "markdown",
      "source": [
        "# Exploration 1: The Collatz Conjecture\n",
        "### By: Aziz Albayouk, Tanner Boyea, Kelly Kirchner, August Noe\n",
        "The Collatz Conjecture is an infamous problem that states if you take any positive integer and follow the proposed pattern, you will end up in a continuous loop. The idea behind the conjecture is if  you have an even number you simply divide by 2, and if you have an odd number you multiply it by 3 and add 1, the end result should be a continuous loop between 4, 2, and 1. This exploration studies the Collatz Conjecture using Python, even taking a look at variants and unconventional inputs. "
      ],
      "metadata": {
        "id": "_3qmKWwcbw8q"
      }
    },
    {
      "cell_type": "markdown",
      "source": [
        "Code explanation #1\n"
      ],
      "metadata": {
        "id": "Pjl4EeCgvnI5"
      }
    },
    {
      "cell_type": "code",
      "execution_count": null,
      "metadata": {
        "id": "LrgjI0FpbwY5"
      },
      "outputs": [],
      "source": [
        "def collatz(n):\n",
        "  t = 0 \n",
        "  while n > 1:\n",
        "    if n % 2 == 0:\n",
        "      n = n / 2\n",
        "    elif n % 2 == 1:\n",
        "      n = 3 * n + 1\n",
        "    print(n) \n",
        "    t = t + 1\n",
        "  print(1)"
      ]
    },
    {
      "cell_type": "markdown",
      "source": [
        "Code explanation #2"
      ],
      "metadata": {
        "id": "pYdgekIbvqhe"
      }
    },
    {
      "cell_type": "code",
      "source": [
        "for N in range(3, 101, 2):\n",
        "    n = N\n",
        "    steps = 0\n",
        "    while n != 1:\n",
        "        steps += 1\n",
        "        if n%2 == 0:\n",
        "            n /= 2\n",
        "        else:\n",
        "            n = 3 * n + 1\n",
        "    print(N, steps)"
      ],
      "metadata": {
        "id": "DbBsmNdJvsUd"
      },
      "execution_count": null,
      "outputs": []
    },
    {
      "cell_type": "markdown",
      "source": [
        "Code explanation #3"
      ],
      "metadata": {
        "id": "ss3ZwtNkv-6w"
      }
    },
    {
      "cell_type": "code",
      "source": [
        "def range_collatz_check(y): #3 this checks the first y numbers\n",
        "  for x in range(2,y):\n",
        "    mm=x\n",
        "    t=0\n",
        "    if mm%2==1:\n",
        "      while mm>=x:\n",
        "        t=t+1\n",
        "        if mm%2==0:\n",
        "          mm=mm/2\n",
        "        if mm%2==1:\n",
        "          mm=3*mm+1\n",
        "        if t>10000:\n",
        "          return(\"Time out at\",x)\n",
        "          break\n",
        "  return(\"First \", y, \" terms are verified.\")"
      ],
      "metadata": {
        "id": "0qkV2IoWwAou"
      },
      "execution_count": null,
      "outputs": []
    },
    {
      "cell_type": "markdown",
      "source": [
        "Code explanation #4"
      ],
      "metadata": {
        "id": "y-mxaf0qwF2o"
      }
    },
    {
      "cell_type": "code",
      "source": [
        "#4"
      ],
      "metadata": {
        "id": "KKggDwNswFiM"
      },
      "execution_count": null,
      "outputs": []
    },
    {
      "cell_type": "markdown",
      "source": [
        "Code explanation #5"
      ],
      "metadata": {
        "id": "tVJIwI-qwykm"
      }
    },
    {
      "cell_type": "code",
      "source": [
        "#5\n"
      ],
      "metadata": {
        "id": "q_LMJk0cw0Ar"
      },
      "execution_count": null,
      "outputs": []
    }
  ]
}