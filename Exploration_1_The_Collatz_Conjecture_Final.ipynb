{
  "nbformat": 4,
  "nbformat_minor": 0,
  "metadata": {
    "colab": {
      "provenance": [],
      "include_colab_link": true
    },
    "kernelspec": {
      "name": "python3",
      "display_name": "Python 3"
    },
    "language_info": {
      "name": "python"
    }
  },
  "cells": [
    {
      "cell_type": "markdown",
      "metadata": {
        "id": "view-in-github",
        "colab_type": "text"
      },
      "source": [
        "<a href=\"https://colab.research.google.com/github/kekirchn/MATH-152/blob/main/Exploration_1_The_Collatz_Conjecture_Final.ipynb\" target=\"_parent\"><img src=\"https://colab.research.google.com/assets/colab-badge.svg\" alt=\"Open In Colab\"/></a>"
      ]
    },
    {
      "cell_type": "markdown",
      "source": [
        "# Exploration 1: The Collatz Conjecture\n",
        "### By: Aziz Albayouk, Tanner Boyea, Kelly Kirchner, August Noë\n",
        "The Collatz Conjecture is an infamous problem that states if you take any positive integer and follow the proposed pattern, you will end up in a continuous loop. The idea behind the conjecture is if you have an even number you simply divide by 2, and if you have an odd number you multiply it by 3 and add 1. The conjecture states that the end result should be a loop between 4, 2, and 1. Despite it's simplicity, the conjecture remains unsolved but is still studied almost 100 years later. This exploration studies the Collatz Conjecture using Python, studying the dropping times of different inputs and even taking a look at variants of the function and unconventional inputs. "
      ],
      "metadata": {
        "id": "_3qmKWwcbw8q"
      }
    },
    {
      "cell_type": "markdown",
      "source": [
        "## Coding the Collatz Conjecture\n",
        "Since the conjecture requires a continuous use of two functions until a certain outcome is reached, the code below uses a while loop to check if the input is an even or odd number and based on that it will then push the input through the conditions and functions until the number reaches the desired output (1). The output will be a list of integers going through the loop until it reaches the end cycle (the continuous 4, 2, 1)--the code prevents the infinite loop from occuring."
      ],
      "metadata": {
        "id": "Pjl4EeCgvnI5"
      }
    },
    {
      "cell_type": "code",
      "execution_count": null,
      "metadata": {
        "id": "LrgjI0FpbwY5",
        "colab": {
          "base_uri": "https://localhost:8080/"
        },
        "outputId": "56c06036-6d72-4270-c303-563c56df7290"
      },
      "outputs": [
        {
          "output_type": "stream",
          "name": "stdout",
          "text": [
            "0 10\n",
            "1 5.0\n",
            "2 16.0\n",
            "3 8.0\n",
            "4 4.0\n",
            "5 2.0\n",
            "6 1.0\n"
          ]
        }
      ],
      "source": [
        "def collatz(n):\n",
        "  t=0\n",
        "  print(t,n)           \n",
        "  while n > 1:\n",
        "    t=t+1\n",
        "    if n % 2 == 0:      \n",
        "      n = n / 2\n",
        "    elif n % 2 == 1:   \n",
        "      n = 3 * n + 1\n",
        "    print(t,n)  "
      ]
    },
    {
      "cell_type": "markdown",
      "source": [
        "## Counting the Steps\n",
        "\n",
        "Now that we have encoded the conjecture, we want to be able to see how many iterations through the loop it takes until the returned number is less than the beginning input. We call this number of itterations the dropping time. The code below utilizes a while loop to keep track of how many iterations the loop goes through. It is a subtle variation of the base Collatz code that enables us to look at the number of iterations it took before the loop produced an output less than the input. Of course, since the rule for evens will always cause the next number of the sequence to be less than the original input, this code excludes evens and only looks at the dropping time of odds."
      ],
      "metadata": {
        "id": "pYdgekIbvqhe"
      }
    },
    {
      "cell_type": "code",
      "source": [
        "def count_steps(N): \n",
        "    n = N\n",
        "    steps = 0\n",
        "    while n>= N:\n",
        "        steps += 1      \n",
        "        if n%2 == 0:\n",
        "            n /= 2\n",
        "        else:\n",
        "            n = 3 * n + 1\n",
        "    return f'The dropping timne for {N} is {steps}'"
      ],
      "metadata": {
        "id": "DbBsmNdJvsUd",
        "colab": {
          "base_uri": "https://localhost:8080/",
          "height": 35
        },
        "outputId": "c1ecb12a-3d22-4d3e-f652-c1229f31535c"
      },
      "execution_count": null,
      "outputs": [
        {
          "output_type": "execute_result",
          "data": {
            "text/plain": [
              "'The dropping time for 11 is 8'"
            ],
            "application/vnd.google.colaboratory.intrinsic+json": {
              "type": "string"
            }
          },
          "metadata": {},
          "execution_count": 17
        }
      ]
    },
    {
      "cell_type": "markdown",
      "source": [
        "## Verifying the Conjecture\n",
        "So far we have produced code that will take a single input, run through the conditions and return the sequence, now we look at checking multiple inputs. By using a range function, we're able to give the code a range of numbers and have it test whether each natural number in this range sitisfies the conjecture. Provided each number in the range drops in a reasonable number (10,000) of steps, it counts as satisfying the conjecture. We have verified the first 10,000,000 terms, which takes about a minute."
      ],
      "metadata": {
        "id": "ss3ZwtNkv-6w"
      }
    },
    {
      "cell_type": "code",
      "source": [
        "def range_collatz_check(y): \n",
        "  for x in range(2,y):\n",
        "    temp=x\n",
        "    t=0\n",
        "    if temp%2==1:\n",
        "      while temp>=x:\n",
        "        t=t+1\n",
        "        if temp%2==0:\n",
        "          temp=temp/2\n",
        "        if temp%2==1:\n",
        "          temp=3*temp+1\n",
        "        if t>10000:\n",
        "          return(\"Time out at\",x)\n",
        "          break\n",
        "  return(\"First \", y, \" terms are verified.\")\n",
        "\n",
        "range_collatz_check(10000000)"
      ],
      "metadata": {
        "id": "0qkV2IoWwAou",
        "colab": {
          "base_uri": "https://localhost:8080/"
        },
        "outputId": "c8a44a82-e33a-4c93-cedf-bd827e60a040"
      },
      "execution_count": null,
      "outputs": [
        {
          "output_type": "execute_result",
          "data": {
            "text/plain": [
              "('First ', 10000000, ' terms are verified.')"
            ]
          },
          "metadata": {},
          "execution_count": 26
        }
      ]
    },
    {
      "cell_type": "markdown",
      "source": [
        "## Studying Dropping Time\n",
        "By using the code we have above for studying the droping time, we can see that there are multiple patterns. For instance, the drop time for even numbers is always 1 because they get halved. \n",
        "We noticed that the drop time of every other odd number starting at 5 is 3, i.e: 5,9,13,17,21...\n",
        "The drop time remains 3 for these numbers when raising them to power (n) as well. \n",
        "Another pattern that was noticed was a +12 then +20 pattern: 11 takes 8 steps to drop, 23 takes 8 steps to drop, 43 takes 8 steps to drop, 55 takes 8 steps to drop and so on. \n",
        "Similarly, there is another pattern that occures every 16th number from 3 that has a dropping time of 6. Meaning that numbers in the sequence 3, 19, 35, 51, 67, etc...all take 6 steps to drop to a smaller number"
      ],
      "metadata": {
        "id": "y-mxaf0qwF2o"
      }
    },
    {
      "cell_type": "markdown",
      "source": [
        "## Studying Variants\n",
        "\n",
        "The Collatz Conjecture claims to be true while the input is a positive integer, so then what happens when we use a negative number or if we tweak the original equation. Using the encoded conjecture, a negative input will not return an output--since the negative input doesn't meet the main condition. However, if we begin with a negative integer and go through the process by hand (without code), there is no set cycle or value that the function will end on. \n",
        "\n",
        "In terms of variants, of course the first idea we would think of is changing the functions the integers run through. If we change the function that the odd integers go through, even with something as small as changing it to: 3n + 3 or even n - 1, you still end up in a continuous loop but with the loop slightly changing to be multiples of the original loop (i.e. 12, 6, 3; 20, 10, 5 etc) or you'll end up with a very quick and somewhat boring computation.  \n",
        "\n",
        "Something we wanted to take a look at was what if you allow more than one step to function at a time. Essentially we could combine the rules, instead of running them individually, they would reduce down to one rule: (3 * n + 1) / 2. It wouldn't matter if the starting input was odd or even, it would get pushed through the same condition over and over again. This variant doesn't entirely fulfill the Collatz, since with some inputs it will have the Collatz cycle but with others it never reaches one but is just stuck in a never ending process."
      ],
      "metadata": {
        "id": "tVJIwI-qwykm"
      }
    },
    {
      "cell_type": "markdown",
      "source": [
        "## Conclusion\n",
        "While the CollatZ Conjecture appears simple and straight forward, there is more to this function than there seems. There is not one correct method to go about the Collatz Conjecture, it has been around for many years, and has seen countless attempts and techniques to solve it. Many within the math academia say to not try to solve this problem since it is endless and abstract; despite how circular and indefinite it seems to be, the solution or just the different means that will be used to try and solve it might help develop new processes and findings. \n"
      ],
      "metadata": {
        "id": "RtDIisPCeS7V"
      }
    }
  ]
}