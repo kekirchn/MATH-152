{
  "nbformat": 4,
  "nbformat_minor": 0,
  "metadata": {
    "colab": {
      "provenance": [],
      "include_colab_link": true
    },
    "kernelspec": {
      "name": "python3",
      "display_name": "Python 3"
    },
    "language_info": {
      "name": "python"
    }
  },
  "cells": [
    {
      "cell_type": "markdown",
      "metadata": {
        "id": "view-in-github",
        "colab_type": "text"
      },
      "source": [
        "<a href=\"https://colab.research.google.com/github/kekirchn/MATH-152/blob/main/Exploration_1_The_Collatz_Conjecture_Final.ipynb\" target=\"_parent\"><img src=\"https://colab.research.google.com/assets/colab-badge.svg\" alt=\"Open In Colab\"/></a>"
      ]
    },
    {
      "cell_type": "markdown",
      "source": [
        "# Exploration 1: The Collatz Conjecture\n",
        "### By: Aziz Albayouk, Tanner Boyea, Kelly Kirchner, August Noe\n",
        "The Collatz Conjecture is an infamous and unsolved problem that states if you take any positive integer and follow the proposed pattern, you will end up in a continuous loop. The idea behind the conjecture is if  you have an even number you simply divide by 2, and if you have an odd number you multiply it by 3 and add 1, the end result should be a continuous loop between 4, 2, and 1. This exploration studies the Collatz Conjecture using Python, studying the dropping times of different inputs and even taking a look at variants of the function and unconventional inputs. "
      ],
      "metadata": {
        "id": "_3qmKWwcbw8q"
      }
    },
    {
      "cell_type": "markdown",
      "source": [
        "## Coding the Collatz Conjecture\n",
        "Below is the coded Collatz Conjecture, it utilizes a while loop to check if the input is an even or odd number and based on that it will then push the input through the conditions and functions until the number is reduced to 1. The output will be a list of integers going through the loop until it reaches the end cycle (the continuous 4, 2, 1)--the code prevents the infinite loop from occuring."
      ],
      "metadata": {
        "id": "Pjl4EeCgvnI5"
      }
    },
    {
      "cell_type": "code",
      "execution_count": null,
      "metadata": {
        "id": "LrgjI0FpbwY5"
      },
      "outputs": [],
      "source": [
        "def collatz(n):\n",
        "  t = 0            \n",
        "  while n > 1:\n",
        "    t = t + 1\n",
        "    if n % 2 == 0:   \n",
        "      n = n / 2\n",
        "    elif n % 2 == 1: \n",
        "      n = 3 * n + 1\n",
        "    print(n)                 "
      ]
    },
    {
      "cell_type": "markdown",
      "source": [
        "## Counting the Steps\n",
        "\n",
        "Now that we have encoded the conjecture, we want to be able to see how many iterations through the loop does it take until the returned number is less than the beginning input. The code below utilizes - Since we know that any even input is divided by 2, and obviously is smaller than the beginning output, even numbers are removed from the analyzed code. \n",
        "\n",
        "--waiting for final code"
      ],
      "metadata": {
        "id": "pYdgekIbvqhe"
      }
    },
    {
      "cell_type": "code",
      "source": [
        "def count_steps(N): \n",
        "    n = N\n",
        "    steps = 0\n",
        "    while n>= N:\n",
        "        steps += 1\n",
        "        if n%2 == 0:\n",
        "            n /= 2\n",
        "        else:\n",
        "            n = 3 * n + 1\n",
        "    return f'The dropping time for {N} is {steps}'"
      ],
      "metadata": {
        "id": "DbBsmNdJvsUd"
      },
      "execution_count": null,
      "outputs": []
    },
    {
      "cell_type": "markdown",
      "source": [
        "## Verifying the Conjecture"
      ],
      "metadata": {
        "id": "ss3ZwtNkv-6w"
      }
    },
    {
      "cell_type": "code",
      "source": [
        "def range_collatz_check(y): #3 this checks the first y numbers\n",
        "  for x in range(2,y):\n",
        "    mm=x\n",
        "    t=0\n",
        "    if mm%2==1:\n",
        "      while mm>=x:\n",
        "        t=t+1\n",
        "        if mm%2==0:\n",
        "          mm=mm/2\n",
        "        if mm%2==1:\n",
        "          mm=3*mm+1\n",
        "        if t>10000:\n",
        "          return(\"Time out at\",x)\n",
        "          break\n",
        "  return(\"First \", y, \" terms are verified.\")"
      ],
      "metadata": {
        "id": "0qkV2IoWwAou"
      },
      "execution_count": null,
      "outputs": []
    },
    {
      "cell_type": "markdown",
      "source": [
        "## Studying Dropping Times\n",
        "\n",
        "Utilizing the code we have above for studying the droping time, we can see that there are multiple patterns. For instance, the drop time for even numbers is always 1 because they get halved. \n",
        "We noticed that the drop time of every other odd number starting at 5 is 3, i.e: 5,9,13,17,21...\n",
        "The drop time remains 3 for these numbers when raising them to power (n) as well. \n",
        "Another pattern that was noticed was a +12 then +20 pattern. 11 takes 8 steps to drop. 23 takes 8 steps to drop. 43 takes 8 steps to drop. 55 takes 8 steps to drop and so on. There is a pattern starting with 3 which takes 6 steps to drop. If we add 16 to 3 and so on we notice that each number will take 6 steps to drop."
      ],
      "metadata": {
        "id": "y-mxaf0qwF2o"
      }
    },
    {
      "cell_type": "markdown",
      "source": [
        "## Studying Variants\n",
        "\n",
        "The Collatz Conjecture claims to be true while the input is a positive integer, so then what happens when we use a negative number or if we tweak the original equation. Using the encoded conjecture, a negative input will always return an output of 1--since the negative input doesn't meet the main condition. However, if we begin with a negative integer and go through the process by hand (without code), there is no set cycle or value that the function will end on. In terms of variants, of course the first idea we would think of is changing the functions the integers run through. If we change the function that the odd integers go through, even with something as small as changing it to: 3n + 3 or even n - 1, you still end up in a continuous loop but with the loop slightly changing to be multiples of the original loop (i.e. 12, 6, 3; 20, 10, 5 etc) or you'll end up with a very quick and somewhat boring computation.  \n",
        "\n"
      ],
      "metadata": {
        "id": "tVJIwI-qwykm"
      }
    },
    {
      "cell_type": "markdown",
      "source": [
        "## Conclusion\n",
        "\n"
      ],
      "metadata": {
        "id": "RtDIisPCeS7V"
      }
    }
  ]
}